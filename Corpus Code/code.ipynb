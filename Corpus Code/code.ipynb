{
 "cells": [
  {
   "cell_type": "code",
   "execution_count": 145,
   "metadata": {},
   "outputs": [
    {
     "name": "stdout",
     "output_type": "stream",
     "text": [
      "[63, 2, 8, 7]\n"
     ]
    }
   ],
   "source": [
    "import codecs\n",
    "t=[]\n",
    "words,wh,sen,char= 0,0,0,0\n",
    "s=codecs.open(\"E:\\\\corpus\\\\hindi stories\\\\agya\\\\new.txt\",encoding=\"utf-8\")\n",
    "for x in s:\n",
    "    char=char+len(x)\n",
    "    sentence=x.split(\"\\n\\r\")\n",
    "    sen=sen+len(sentence)\n",
    "    word=x.split(\" \")\n",
    "    words=words+len(word)\n",
    "\n",
    "t.append(char) \n",
    "t.append(sen)\n",
    "t.append(words)\n",
    "t.append(words-1)\n",
    "print(t)\n",
    "file=open(\"basic_features.txt\",\"a\")\n",
    "file.write(' '.join([str(elem) for elem in t]))\n",
    "file.write(\"\\n\")\n",
    "file.close()"
   ]
  },
  {
   "cell_type": "code",
   "execution_count": 147,
   "metadata": {},
   "outputs": [
    {
     "name": "stdout",
     "output_type": "stream",
     "text": [
      "16\n"
     ]
    }
   ],
   "source": [
    "import codecs\n",
    "s=codecs.open(\"E:\\\\corpus\\\\hindi stories\\\\agya\\\\new.txt\",encoding=\"utf-8\")\n",
    "\n",
    "wh,v=0,0\n",
    "for line in s:\n",
    "    words=line.split()\n",
    "    for letter in words:\n",
    "        for i in letter:\n",
    "            if((i==\"अ\")or(i==\"आ\")or(i==\"इ\")or(i==\"ई\")or(i==\"उ\")or(i==\"ऊ\")or(i==\"ऋ\")or(i==\"ए\")or(i==\"ऐ\")or(i==\"ओ\")or(i==\"औ\")or(i==\"ा\")or(i==\"ि\")or(i==\"ी\")or(i==\"ु\")or(i==\"ू\")or(i==\"ृ\")or(i==\"े\")or(i==\"ै\")or(i==\"ो\")or(i==\"ौ\")):\n",
    "                    v+=1\n",
    "print(v)\n",
    "file=open(\"vowels.txt\",\"a\")\n",
    "file.write(str(v))\n",
    "file.write(\"\\n\")\n",
    "file.close()"
   ]
  },
  {
   "cell_type": "code",
   "execution_count": 8,
   "metadata": {},
   "outputs": [
    {
     "ename": "AttributeError",
     "evalue": "'_io.BufferedReader' object has no attribute 'count'",
     "output_type": "error",
     "traceback": [
      "\u001b[1;31m---------------------------------------------------------------------------\u001b[0m",
      "\u001b[1;31mAttributeError\u001b[0m                            Traceback (most recent call last)",
      "\u001b[1;32m<ipython-input-8-9e25b16fae64>\u001b[0m in \u001b[0;36m<module>\u001b[1;34m\u001b[0m\n\u001b[0;32m      9\u001b[0m         \u001b[1;32mfor\u001b[0m \u001b[0mi\u001b[0m \u001b[1;32min\u001b[0m \u001b[0mset\u001b[0m\u001b[1;33m:\u001b[0m\u001b[1;33m\u001b[0m\u001b[1;33m\u001b[0m\u001b[0m\n\u001b[0;32m     10\u001b[0m             \u001b[1;32mif\u001b[0m \u001b[0mi\u001b[0m \u001b[1;32min\u001b[0m \u001b[0mset\u001b[0m\u001b[1;33m:\u001b[0m\u001b[1;33m\u001b[0m\u001b[1;33m\u001b[0m\u001b[0m\n\u001b[1;32m---> 11\u001b[1;33m                 \u001b[0ms\u001b[0m\u001b[1;33m.\u001b[0m\u001b[0mcount\u001b[0m\u001b[1;33m(\u001b[0m\u001b[0mi\u001b[0m\u001b[1;33m)\u001b[0m\u001b[1;33m\u001b[0m\u001b[1;33m\u001b[0m\u001b[0m\n\u001b[0m\u001b[0;32m     12\u001b[0m             \u001b[0ml\u001b[0m\u001b[1;33m.\u001b[0m\u001b[0mappend\u001b[0m\u001b[1;33m(\u001b[0m\u001b[0mv\u001b[0m\u001b[1;33m)\u001b[0m\u001b[1;33m\u001b[0m\u001b[1;33m\u001b[0m\u001b[0m\n\u001b[0;32m     13\u001b[0m \u001b[1;33m\u001b[0m\u001b[0m\n",
      "\u001b[1;32mc:\\users\\paritosh\\appdata\\local\\programs\\python\\python37\\lib\\codecs.py\u001b[0m in \u001b[0;36m__getattr__\u001b[1;34m(self, name, getattr)\u001b[0m\n\u001b[0;32m    741\u001b[0m         \"\"\" Inherit all other methods from the underlying stream.\n\u001b[0;32m    742\u001b[0m         \"\"\"\n\u001b[1;32m--> 743\u001b[1;33m         \u001b[1;32mreturn\u001b[0m \u001b[0mgetattr\u001b[0m\u001b[1;33m(\u001b[0m\u001b[0mself\u001b[0m\u001b[1;33m.\u001b[0m\u001b[0mstream\u001b[0m\u001b[1;33m,\u001b[0m \u001b[0mname\u001b[0m\u001b[1;33m)\u001b[0m\u001b[1;33m\u001b[0m\u001b[1;33m\u001b[0m\u001b[0m\n\u001b[0m\u001b[0;32m    744\u001b[0m \u001b[1;33m\u001b[0m\u001b[0m\n\u001b[0;32m    745\u001b[0m     \u001b[1;31m# these are needed to make \"with StreamReaderWriter(...)\" work properly\u001b[0m\u001b[1;33m\u001b[0m\u001b[1;33m\u001b[0m\u001b[1;33m\u001b[0m\u001b[0m\n",
      "\u001b[1;31mAttributeError\u001b[0m: '_io.BufferedReader' object has no attribute 'count'"
     ]
    }
   ],
   "source": [
    "import codecs\n",
    "s=codecs.open(\"E:\\\\corpus\\\\hindi stories\\\\agya\\\\new.txt\",encoding=\"utf-8\")\n",
    "l=[]\n",
    "v=0\n",
    "set=['अ','आ' ,'इ','ई','उ','ऊ','ऋ','ए','ऐ','ओ''औ']  \n",
    "for line in s:\n",
    "    words=line.split()\n",
    "    for letter in words:\n",
    "        for i in set:\n",
    "            if i in set:\n",
    "                s.count(i)\n",
    "            l.append(v)\n",
    "    \n",
    "print(l)\n",
    "file=open(\"frequency.txt\",\"a\")\n",
    "file.write(' '.join([str(elem) for elem in l]))\n",
    "file.write(\"\\n\")\n",
    "file.close()"
   ]
  },
  {
   "cell_type": "code",
   "execution_count": 14,
   "metadata": {},
   "outputs": [
    {
     "name": "stdout",
     "output_type": "stream",
     "text": [
      "happen\n",
      "only\n",
      "here\n",
      "[0, 0, 0]\n"
     ]
    }
   ],
   "source": [
    "import codecs\n",
    "s=codecs.open(\"E:\\\\corpus\\\\hindi stories\\\\agya\\\\new.txt\",encoding=\"utf-8\")\n",
    "l=[]\n",
    "v=0\n",
    "set=[\"happen\",\"only\",\"here\"] \n",
    "for line in set:\n",
    "    word=line.split()\n",
    "    if i in s:\n",
    "        print(i)\n",
    "        v=s.count(i)\n",
    "    l.append(v)\n",
    "    \n",
    "print(l)\n",
    "file=open(\"frequency.txt\",\"a\")\n",
    "file.write(' '.join([str(elem) for elem in l]))\n",
    "file.write(\"\\n\")\n",
    "file.close()"
   ]
  },
  {
   "cell_type": "code",
   "execution_count": null,
   "metadata": {},
   "outputs": [],
   "source": []
  }
 ],
 "metadata": {
  "kernelspec": {
   "display_name": "Python 3",
   "language": "python",
   "name": "python3"
  },
  "language_info": {
   "codemirror_mode": {
    "name": "ipython",
    "version": 3
   },
   "file_extension": ".py",
   "mimetype": "text/x-python",
   "name": "python",
   "nbconvert_exporter": "python",
   "pygments_lexer": "ipython3",
   "version": "3.7.4"
  }
 },
 "nbformat": 4,
 "nbformat_minor": 4
}
