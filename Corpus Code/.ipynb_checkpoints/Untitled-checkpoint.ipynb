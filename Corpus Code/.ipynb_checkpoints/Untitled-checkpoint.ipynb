{
 "cells": [
  {
   "cell_type": "code",
   "execution_count": 8,
   "metadata": {},
   "outputs": [
    {
     "name": "stdout",
     "output_type": "stream",
     "text": [
      "87 6 8 1 78\n"
     ]
    }
   ],
   "source": [
    "import codecs\n",
    "whitespace,lines,charc,vowels,words,z=0,0,0,0,0,0\n",
    "s=codecs.open('E:\\\\corpus\\\\hindi stories\\\\agya\\\\new.txt',encoding='utf-8')\n",
    "text=s.read()\n",
    "for i in text:\n",
    "    if((i==\"अ\")or(i==\"आ\")or(i==\"इ\")or(i==\"ई\")or(i==\"उ\")or(i==\"ऊ\")or(i==\"ऋ\")or(i==\"ए\")or(i==\"ऐ\")or(i==\"ओ\")or(i==\"औ\")):\n",
    "        vowels=+1\n",
    "    elif(i==\"\\n\"):\n",
    "        lines+=1\n",
    "    elif(i==\" \"):\n",
    "        whitespace+=1\n",
    "    else:\n",
    "        charc+=1\n",
    "consonants=charc-vowels-whitespace\n",
    "print(charc,lines,whitespace,vowels,consonants)\n",
    "file=open(\"new.txt\",\"a\")\n",
    "file.write(str(charc)+\" \"+str(lines)+\" \"+str(whitespace)+\" \"+str(vowels)+\" \"+str(consonants))\n",
    "file.write(\"\\n\")\n",
    "file.close()\n",
    "    "
   ]
  },
  {
   "cell_type": "code",
   "execution_count": 9,
   "metadata": {},
   "outputs": [
    {
     "name": "stdout",
     "output_type": "stream",
     "text": [
      "14\n"
     ]
    }
   ],
   "source": [
    "import codecs\n",
    "words=0\n",
    "s=codecs.open('E:\\\\corpus\\\\hindi stories\\\\agya\\\\new.txt',encoding='utf-8')\n",
    "for line in s:\n",
    "    twords=line.split(None)\n",
    "    words+=len(twords)\n",
    "print(words)\n",
    "file=open(\"words.txt\",\"a\")\n",
    "file.write(str(words))\n",
    "file.write(\"\\n\")\n",
    "file.close()\n"
   ]
  },
  {
   "cell_type": "code",
   "execution_count": 1,
   "metadata": {},
   "outputs": [
    {
     "name": "stdout",
     "output_type": "stream",
     "text": [
      "[1, 0, 0, 0, 0, 0, 0, 0, 0, 0, 0, 0, 0, 0, 0, 0, 0, 0, 0, 0, 0, 0, 0, 0, 0, 0, 0, 0, 0, 0, 0, 0, 0, 0, 0]\n"
     ]
    }
   ],
   "source": [
    "import codecs\n",
    "x=[]\n",
    "s=codecs.open('E:\\\\corpus\\\\hindi stories\\\\agya\\\\new.txt',encoding='utf-8')\n",
    "txt=s.read()\n",
    "words=['और','या','कि','लेकिन','पर','मगर','इसलिए','इसीलिए','इसलिए कि','क्युकी','जबकि','तथा','एंव','ताकि','नहीं तो','परन्तु','तो','चाहे','अथवा','मगर','अन्यथा','पर','परन्तु','किंतु','बल्कि','लेकिन','इस कारण','चुकी','जो की','यदि','तथापि','जिससे','अर्थात','यानि','मानो']\n",
    "for w in words:\n",
    "    l=txt.count(w)\n",
    "    x.append(l)\n",
    "print(x)\n",
    "file=open(\"conjunction.txt\",\"a\")\n",
    "file.write(str(x))\n",
    "file.close()\n"
   ]
  },
  {
   "cell_type": "code",
   "execution_count": 3,
   "metadata": {},
   "outputs": [
    {
     "name": "stdout",
     "output_type": "stream",
     "text": [
      "[1, 1, 0, 0, 0, 0, 0, 0, 0, 0, 0, 0, 0, 0, 0, 0, 0, 0, 0, 0, 0, 0, 0, 0, 0, 1, 0, 0, 0, 0, 0, 0, 0, 0, 0, 0, 0, 0, 0, 0]\n"
     ]
    }
   ],
   "source": [
    "import codecs\n",
    "x=[]\n",
    "s=codecs.open('E:\\\\corpus\\\\hindi stories\\\\agya\\\\new.txt',encoding='utf-8')\n",
    "txt=s.read()\n",
    "words=['सामने','ओर','तरफ','आर-पार','आस-पास','पार','द्वारा','बलबूते','कारण','मारे','हेतु','जरिए','सहारे','आगे','पीछे','पूर्व','बाद','पहले','ऊपर','नीचे','बाहर','भीतर','पास','निकट','दूर','सामने','तरह','भांति','बराबर','ऐसा','विपरीत','उल्टा','विरूद्ध','सिवा','लिए','साथ','मात्र','भर','समेत','आगे']\n",
    "for w in words:\n",
    "    l=txt.count(w)\n",
    "    x.append(l)\n",
    "print(x)\n",
    "file=open(\"preposition.txt\",\"a\")\n",
    "file.write(str(x))\n",
    "file.write(\"\\n\")\n",
    "file.close()"
   ]
  },
  {
   "cell_type": "code",
   "execution_count": 4,
   "metadata": {},
   "outputs": [
    {
     "name": "stdout",
     "output_type": "stream",
     "text": [
      "[0, 0, 0, 0, 0, 0, 0, 0, 0, 0, 0, 0, 0, 0, 0, 0, 0, 0, 0, 0, 0, 0, 0, 0, 0, 0, 0, 0, 0, 0, 2, 0, 0, 0, 0, 0, 0, 0, 0, 0, 0, 0, 0, 0, 0, 0, 0, 0, 0, 0, 0, 0, 0, 0, 0, 0, 0, 0, 0, 0, 0, 0, 0, 0, 0, 0, 0, 0, 0, 0, 0, 0, 0, 0, 0, 0]\n"
     ]
    }
   ],
   "source": [
    "import codecs\n",
    "x=[]\n",
    "s=codecs.open('E:\\\\corpus\\\\hindi stories\\\\agya\\\\new.txt',encoding='utf-8')\n",
    "txt=s.read()\n",
    "words=['मेरा','में','हम','हमारा','मुझे','मुझको','हमारी','मैंने','हमे','हमको','तू','तुम','तुम्हे','आप','तुम्हरे','तुमने','आपने','तुझे','तेरा','तुम्हरा','आपको','आपका','आप','लोग','वह','उसने','उसको','उसका','उसे','उसमे','वे','इन्होने','उनको','उनका','उन्हें','उनमे','यह','वह','ये','को','कुछ','किसी','कौन','किसने','जहा','वहा','किसी को','कोई','किन्ही को','जैसी','तैसी','वैसी','जैसा','वैसा','जो','सो','जहा','वहा','जिसकी','उसकी','जितना','उतना','क्या','कौन','किसने','किसका','किसको','किसलिए','कहाँ','हमने','तुम','आपने','आप','निजी','खुद','स्वयं']\n",
    "for w in words:\n",
    "    l=txt.count(w) \n",
    "    x.append(l)\n",
    "print(x)\n",
    "file=open(\"pronoun.txt\",\"a\")\n",
    "file.write(str(x))\n",
    "file.write(\"\\n\")\n",
    "file.close()"
   ]
  },
  {
   "cell_type": "code",
   "execution_count": 1,
   "metadata": {},
   "outputs": [
    {
     "name": "stdout",
     "output_type": "stream",
     "text": [
      "[0, 4, 0, 7, 0, 2, 2, 0, 0, 0, 5, 0, 0, 0, 6, 0, 1, 0, 0, 0, 0, 0, 0, 0, 3, 1, 4, 0, 0, 0, 0, 0, 0, 0, 0, 0, 0, 0, 0, 0, 0, 10, 0, 0, 0, 1, 2, 0, 0, 0, 1, 1, 6, 0, 4, 0, 0, 5, 0]\n"
     ]
    }
   ],
   "source": [
    "import codecs\n",
    "x=[]\n",
    "s=codecs.open('E:\\\\corpus\\\\hindi stories\\\\agya\\\\new.txt',encoding='utf-8')\n",
    "txt=s.read()\n",
    "words=[u\"ँ\",u\"ं\",u\"ः\",u\"ा\",u\"ि\",u\"ी\",u\"ु\",u\"ू\",u\"ृ\",u\"ॅ\",u\"े\",u\"ै\",u\"ो\",u\"ौ\",u\"्\",u\"अ\",u\"आ\",u\"इ\",u\"ई\",u\"उ\",u\"ऊ\",u\"ऋ\",u\"ए\",u\"ऐ\",u\"ओ\",u\"औ\",u\"क\",u\"ख\",u\"ग\",u\"घ\",u\"ङ\",u\"च\",u\"छ\",u\"ज\",u\"झ\",u\"ञ\",u\"ट\",u\"ठ\",u\"ड\",u\"ढ\",u\"ण\",u\"त\",u\"थ\",u\"द\",u\"ध\",u\"न\",u\"प\",u\"फ\",u\"ब\",u\"भ\",u\"म\",u\"य\",u\"र\",u\"ल\",u\"व\",u\"श\",u\"ष\",u\"स\",u\"ह\"]\n",
    "for w in words:\n",
    "    l=txt.count(w)\n",
    "    x.append(l)\n",
    "print(x)\n",
    "file=open(\"char_frequency.txt\",\"a\")\n",
    "file.write(str(x))\n",
    "file.write(\"\\n\")\n",
    "file.close()"
   ]
  }
 ],
 "metadata": {
  "kernelspec": {
   "display_name": "Python 3",
   "language": "python",
   "name": "python3"
  },
  "language_info": {
   "codemirror_mode": {
    "name": "ipython",
    "version": 3
   },
   "file_extension": ".py",
   "mimetype": "text/x-python",
   "name": "python",
   "nbconvert_exporter": "python",
   "pygments_lexer": "ipython3",
   "version": "3.7.4"
  }
 },
 "nbformat": 4,
 "nbformat_minor": 4
}
